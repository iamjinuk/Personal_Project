{
 "cells": [
  {
   "cell_type": "code",
   "execution_count": 1,
   "metadata": {},
   "outputs": [],
   "source": [
    "import pandas as pd\n",
    "import numpy as np\n",
    "import folium\n",
    "import matplotlib.pyplot as plt\n",
    "import seaborn as sns\n",
    "from IPython.display import set_matplotlib_formats\n",
    "\n",
    "%matplotlib inline\n",
    "\n",
    "set_matplotlib_formats('retina')\n",
    "\n",
    "plt.rc('font',family='Malgun Gothic')\n",
    "plt.rc('axes',unicode_minus=False)"
   ]
  },
  {
   "cell_type": "code",
   "execution_count": 2,
   "metadata": {
    "scrolled": true
   },
   "outputs": [
    {
     "data": {
      "text/html": [
       "<div>\n",
       "<style scoped>\n",
       "    .dataframe tbody tr th:only-of-type {\n",
       "        vertical-align: middle;\n",
       "    }\n",
       "\n",
       "    .dataframe tbody tr th {\n",
       "        vertical-align: top;\n",
       "    }\n",
       "\n",
       "    .dataframe thead th {\n",
       "        text-align: right;\n",
       "    }\n",
       "</style>\n",
       "<table border=\"1\" class=\"dataframe\">\n",
       "  <thead>\n",
       "    <tr style=\"text-align: right;\">\n",
       "      <th></th>\n",
       "      <th>업종명</th>\n",
       "      <th>인허가일자</th>\n",
       "      <th>업소명</th>\n",
       "      <th>소재지(도로명)</th>\n",
       "      <th>소재지(지번)</th>\n",
       "      <th>영업장면적</th>\n",
       "      <th>소재지전화</th>\n",
       "      <th>업태명</th>\n",
       "    </tr>\n",
       "  </thead>\n",
       "  <tbody>\n",
       "    <tr>\n",
       "      <th>0</th>\n",
       "      <td>일반음식점</td>\n",
       "      <td>1967-10-10</td>\n",
       "      <td>청기와뼈다귀해장국</td>\n",
       "      <td>서울특별시 동작구 흑석로 94 (흑석동)</td>\n",
       "      <td>서울특별시 동작구 흑석동 223번지 1호</td>\n",
       "      <td>163.96</td>\n",
       "      <td>02-822-8060</td>\n",
       "      <td>한식</td>\n",
       "    </tr>\n",
       "    <tr>\n",
       "      <th>1</th>\n",
       "      <td>일반음식점</td>\n",
       "      <td>1972-04-14</td>\n",
       "      <td>안동장</td>\n",
       "      <td>서울특별시 동작구 흑석로 105-1 (흑석동)</td>\n",
       "      <td>서울특별시 동작구 흑석동 184번지 18호</td>\n",
       "      <td>321.03</td>\n",
       "      <td>02-813-0572</td>\n",
       "      <td>중국식</td>\n",
       "    </tr>\n",
       "    <tr>\n",
       "      <th>2</th>\n",
       "      <td>일반음식점</td>\n",
       "      <td>1974-11-14</td>\n",
       "      <td>영빈관</td>\n",
       "      <td>서울특별시 동작구 장승배기로19길 21 (노량진동)</td>\n",
       "      <td>서울특별시 동작구 노량진동 313번지 91호</td>\n",
       "      <td>29.93</td>\n",
       "      <td>02-813-3088</td>\n",
       "      <td>중국식</td>\n",
       "    </tr>\n",
       "    <tr>\n",
       "      <th>3</th>\n",
       "      <td>일반음식점</td>\n",
       "      <td>1975-05-15</td>\n",
       "      <td>바다회센타</td>\n",
       "      <td>서울특별시 동작구 동작대로27길 20-7 (사당동)</td>\n",
       "      <td>서울특별시 동작구 사당동 130번지 16호</td>\n",
       "      <td>71.41</td>\n",
       "      <td>02-0533-0594</td>\n",
       "      <td>일식</td>\n",
       "    </tr>\n",
       "    <tr>\n",
       "      <th>4</th>\n",
       "      <td>일반음식점</td>\n",
       "      <td>1975-09-24</td>\n",
       "      <td>야채순대곱창</td>\n",
       "      <td>서울특별시 동작구 동작대로27길 16-7 (사당동)</td>\n",
       "      <td>서울특별시 동작구 사당동 130번지 13호</td>\n",
       "      <td>23.19</td>\n",
       "      <td>02-3476-2259</td>\n",
       "      <td>정종/대포집/소주방</td>\n",
       "    </tr>\n",
       "  </tbody>\n",
       "</table>\n",
       "</div>"
      ],
      "text/plain": [
       "     업종명       인허가일자        업소명                      소재지(도로명)  \\\n",
       "0  일반음식점  1967-10-10  청기와뼈다귀해장국        서울특별시 동작구 흑석로 94 (흑석동)   \n",
       "1  일반음식점  1972-04-14        안동장     서울특별시 동작구 흑석로 105-1 (흑석동)   \n",
       "2  일반음식점  1974-11-14        영빈관  서울특별시 동작구 장승배기로19길 21 (노량진동)   \n",
       "3  일반음식점  1975-05-15      바다회센타  서울특별시 동작구 동작대로27길 20-7 (사당동)   \n",
       "4  일반음식점  1975-09-24     야채순대곱창  서울특별시 동작구 동작대로27길 16-7 (사당동)   \n",
       "\n",
       "                    소재지(지번)   영업장면적         소재지전화         업태명  \n",
       "0    서울특별시 동작구 흑석동 223번지 1호  163.96   02-822-8060          한식  \n",
       "1   서울특별시 동작구 흑석동 184번지 18호  321.03   02-813-0572         중국식  \n",
       "2  서울특별시 동작구 노량진동 313번지 91호   29.93   02-813-3088         중국식  \n",
       "3   서울특별시 동작구 사당동 130번지 16호   71.41  02-0533-0594          일식  \n",
       "4   서울특별시 동작구 사당동 130번지 13호   23.19  02-3476-2259  정종/대포집/소주방  "
      ]
     },
     "execution_count": 2,
     "metadata": {},
     "output_type": "execute_result"
    }
   ],
   "source": [
    "df=pd.read_csv('./data/서울특별시 동작구_일반 및 휴게음식점 현황_20190416.csv', encoding='cp949')\n",
    "df.head()"
   ]
  },
  {
   "cell_type": "code",
   "execution_count": 3,
   "metadata": {
    "scrolled": true
   },
   "outputs": [
    {
     "name": "stdout",
     "output_type": "stream",
     "text": [
      "<class 'pandas.core.frame.DataFrame'>\n",
      "RangeIndex: 4321 entries, 0 to 4320\n",
      "Data columns (total 8 columns):\n",
      "업종명         4321 non-null object\n",
      "인허가일자       4321 non-null object\n",
      "업소명         4321 non-null object\n",
      "소재지(도로명)    4264 non-null object\n",
      "소재지(지번)     4201 non-null object\n",
      "영업장면적       4321 non-null float64\n",
      "소재지전화       2526 non-null object\n",
      "업태명         4321 non-null object\n",
      "dtypes: float64(1), object(7)\n",
      "memory usage: 270.1+ KB\n"
     ]
    }
   ],
   "source": [
    "df.info()"
   ]
  },
  {
   "cell_type": "markdown",
   "metadata": {},
   "source": [
    "동작구의 주요 프랜차이즈 식당 알아보기"
   ]
  },
  {
   "cell_type": "code",
   "execution_count": 4,
   "metadata": {
    "scrolled": true
   },
   "outputs": [
    {
     "data": {
      "text/plain": [
       "김밥천국      10\n",
       "엉터리생고기     8\n",
       "커피나무       6\n",
       "교촌치킨       5\n",
       "실내포장마차     5\n",
       "전주식당       5\n",
       "남원추어탕      4\n",
       "자금성        4\n",
       "노랑통닭       4\n",
       "본죽         4\n",
       "Name: 업소명, dtype: int64"
      ]
     },
     "execution_count": 4,
     "metadata": {},
     "output_type": "execute_result"
    }
   ],
   "source": [
    "df['업소명'].value_counts().head(10)"
   ]
  },
  {
   "cell_type": "code",
   "execution_count": 5,
   "metadata": {},
   "outputs": [],
   "source": [
    "df['브랜드명']=''"
   ]
  },
  {
   "cell_type": "code",
   "execution_count": 6,
   "metadata": {},
   "outputs": [
    {
     "data": {
      "text/html": [
       "<div>\n",
       "<style scoped>\n",
       "    .dataframe tbody tr th:only-of-type {\n",
       "        vertical-align: middle;\n",
       "    }\n",
       "\n",
       "    .dataframe tbody tr th {\n",
       "        vertical-align: top;\n",
       "    }\n",
       "\n",
       "    .dataframe thead th {\n",
       "        text-align: right;\n",
       "    }\n",
       "</style>\n",
       "<table border=\"1\" class=\"dataframe\">\n",
       "  <thead>\n",
       "    <tr style=\"text-align: right;\">\n",
       "      <th></th>\n",
       "      <th>업종명</th>\n",
       "      <th>인허가일자</th>\n",
       "      <th>업소명</th>\n",
       "      <th>소재지(도로명)</th>\n",
       "      <th>소재지(지번)</th>\n",
       "      <th>영업장면적</th>\n",
       "      <th>소재지전화</th>\n",
       "      <th>업태명</th>\n",
       "      <th>브랜드명</th>\n",
       "    </tr>\n",
       "  </thead>\n",
       "  <tbody>\n",
       "    <tr>\n",
       "      <th>407</th>\n",
       "      <td>일반음식점</td>\n",
       "      <td>1995-11-14</td>\n",
       "      <td>김밥천국</td>\n",
       "      <td>서울특별시 동작구 장승배기로 110-1 (노량진동)</td>\n",
       "      <td>서울특별시 동작구 노량진동 311번지 20호</td>\n",
       "      <td>52.63</td>\n",
       "      <td>02-814-5515</td>\n",
       "      <td>한식</td>\n",
       "      <td>김밥천국</td>\n",
       "    </tr>\n",
       "    <tr>\n",
       "      <th>502</th>\n",
       "      <td>일반음식점</td>\n",
       "      <td>1997-10-14</td>\n",
       "      <td>김밥천국</td>\n",
       "      <td>서울특별시 동작구 흑석로 101 (흑석동)</td>\n",
       "      <td>서울특별시 동작구 흑석동 184번지 27호</td>\n",
       "      <td>35.95</td>\n",
       "      <td>02-815-6357</td>\n",
       "      <td>분식</td>\n",
       "      <td>김밥천국</td>\n",
       "    </tr>\n",
       "    <tr>\n",
       "      <th>690</th>\n",
       "      <td>일반음식점</td>\n",
       "      <td>1999-12-29</td>\n",
       "      <td>김밥천국</td>\n",
       "      <td>서울특별시 동작구 상도로 154 (상도동)</td>\n",
       "      <td>서울특별시 동작구 상도동 186번지 5호</td>\n",
       "      <td>35.16</td>\n",
       "      <td>02-824-8710</td>\n",
       "      <td>분식</td>\n",
       "      <td>김밥천국</td>\n",
       "    </tr>\n",
       "    <tr>\n",
       "      <th>761</th>\n",
       "      <td>일반음식점</td>\n",
       "      <td>2000-11-28</td>\n",
       "      <td>김밥천국</td>\n",
       "      <td>서울특별시 동작구 시흥대로 658 (신대방동)</td>\n",
       "      <td>서울특별시 동작구 신대방동 607번지 5호</td>\n",
       "      <td>49.30</td>\n",
       "      <td>02-834-7777</td>\n",
       "      <td>분식</td>\n",
       "      <td>김밥천국</td>\n",
       "    </tr>\n",
       "    <tr>\n",
       "      <th>954</th>\n",
       "      <td>일반음식점</td>\n",
       "      <td>2003-03-11</td>\n",
       "      <td>김밥천국</td>\n",
       "      <td>서울특별시 동작구 여의대방로 188-1 (대방동)</td>\n",
       "      <td>서울특별시 동작구 대방동 389번지 12호</td>\n",
       "      <td>40.78</td>\n",
       "      <td>NaN</td>\n",
       "      <td>분식</td>\n",
       "      <td>김밥천국</td>\n",
       "    </tr>\n",
       "    <tr>\n",
       "      <th>1041</th>\n",
       "      <td>일반음식점</td>\n",
       "      <td>2004-02-24</td>\n",
       "      <td>김밥천국</td>\n",
       "      <td>서울특별시 동작구 노량진로 250 (본동)</td>\n",
       "      <td>서울특별시 동작구 본동 126번지 13호</td>\n",
       "      <td>44.25</td>\n",
       "      <td>02-813-8144</td>\n",
       "      <td>분식</td>\n",
       "      <td>김밥천국</td>\n",
       "    </tr>\n",
       "    <tr>\n",
       "      <th>1065</th>\n",
       "      <td>일반음식점</td>\n",
       "      <td>2004-05-06</td>\n",
       "      <td>김밥천국</td>\n",
       "      <td>서울특별시 동작구 흑석로 6 (상도1동)</td>\n",
       "      <td>서울특별시 동작구 상도1동 645번지 1호</td>\n",
       "      <td>63.80</td>\n",
       "      <td>NaN</td>\n",
       "      <td>한식</td>\n",
       "      <td>김밥천국</td>\n",
       "    </tr>\n",
       "    <tr>\n",
       "      <th>1108</th>\n",
       "      <td>일반음식점</td>\n",
       "      <td>2004-11-11</td>\n",
       "      <td>김밥천국</td>\n",
       "      <td>서울특별시 동작구 동작대로 43 (사당동)</td>\n",
       "      <td>서울특별시 동작구 사당동 1030번지 20호</td>\n",
       "      <td>25.73</td>\n",
       "      <td>NaN</td>\n",
       "      <td>분식</td>\n",
       "      <td>김밥천국</td>\n",
       "    </tr>\n",
       "    <tr>\n",
       "      <th>1387</th>\n",
       "      <td>일반음식점</td>\n",
       "      <td>2007-05-30</td>\n",
       "      <td>김밥천국</td>\n",
       "      <td>서울특별시 동작구 상도로 267 (상도1동)</td>\n",
       "      <td>서울특별시 동작구 상도1동 701번지 3호</td>\n",
       "      <td>27.28</td>\n",
       "      <td>NaN</td>\n",
       "      <td>분식</td>\n",
       "      <td>김밥천국</td>\n",
       "    </tr>\n",
       "    <tr>\n",
       "      <th>3420</th>\n",
       "      <td>휴게음식점</td>\n",
       "      <td>2008-10-17</td>\n",
       "      <td>김밥천국</td>\n",
       "      <td>서울특별시 동작구 상도로15길 39, 1층 (상도동)</td>\n",
       "      <td>서울특별시 동작구 상도동 356번지 211호</td>\n",
       "      <td>26.00</td>\n",
       "      <td>NaN</td>\n",
       "      <td>일반조리판매</td>\n",
       "      <td>김밥천국</td>\n",
       "    </tr>\n",
       "  </tbody>\n",
       "</table>\n",
       "</div>"
      ],
      "text/plain": [
       "        업종명       인허가일자   업소명                       소재지(도로명)  \\\n",
       "407   일반음식점  1995-11-14  김밥천국   서울특별시 동작구 장승배기로 110-1 (노량진동)   \n",
       "502   일반음식점  1997-10-14  김밥천국        서울특별시 동작구 흑석로 101 (흑석동)   \n",
       "690   일반음식점  1999-12-29  김밥천국        서울특별시 동작구 상도로 154 (상도동)   \n",
       "761   일반음식점  2000-11-28  김밥천국      서울특별시 동작구 시흥대로 658 (신대방동)   \n",
       "954   일반음식점  2003-03-11  김밥천국    서울특별시 동작구 여의대방로 188-1 (대방동)   \n",
       "1041  일반음식점  2004-02-24  김밥천국        서울특별시 동작구 노량진로 250 (본동)   \n",
       "1065  일반음식점  2004-05-06  김밥천국         서울특별시 동작구 흑석로 6 (상도1동)   \n",
       "1108  일반음식점  2004-11-11  김밥천국        서울특별시 동작구 동작대로 43 (사당동)   \n",
       "1387  일반음식점  2007-05-30  김밥천국       서울특별시 동작구 상도로 267 (상도1동)   \n",
       "3420  휴게음식점  2008-10-17  김밥천국  서울특별시 동작구 상도로15길 39, 1층 (상도동)   \n",
       "\n",
       "                       소재지(지번)  영업장면적        소재지전화     업태명  브랜드명  \n",
       "407   서울특별시 동작구 노량진동 311번지 20호  52.63  02-814-5515      한식  김밥천국  \n",
       "502    서울특별시 동작구 흑석동 184번지 27호  35.95  02-815-6357      분식  김밥천국  \n",
       "690     서울특별시 동작구 상도동 186번지 5호  35.16  02-824-8710      분식  김밥천국  \n",
       "761    서울특별시 동작구 신대방동 607번지 5호  49.30  02-834-7777      분식  김밥천국  \n",
       "954    서울특별시 동작구 대방동 389번지 12호  40.78          NaN      분식  김밥천국  \n",
       "1041    서울특별시 동작구 본동 126번지 13호  44.25  02-813-8144      분식  김밥천국  \n",
       "1065   서울특별시 동작구 상도1동 645번지 1호  63.80          NaN      한식  김밥천국  \n",
       "1108  서울특별시 동작구 사당동 1030번지 20호  25.73          NaN      분식  김밥천국  \n",
       "1387   서울특별시 동작구 상도1동 701번지 3호  27.28          NaN      분식  김밥천국  \n",
       "3420  서울특별시 동작구 상도동 356번지 211호  26.00          NaN  일반조리판매  김밥천국  "
      ]
     },
     "execution_count": 6,
     "metadata": {},
     "output_type": "execute_result"
    }
   ],
   "source": [
    "# 김밥천국에 대한 레이블링\n",
    "df.loc[df['업소명'].str.contains('김밥천국'), '브랜드명'] = '김밥천국'\n",
    "df[df['업소명'] == '김밥천국']"
   ]
  },
  {
   "cell_type": "code",
   "execution_count": 7,
   "metadata": {},
   "outputs": [],
   "source": [
    "# 이걸 반복문으로 처리할 수 있을까?\n",
    "# 상위 10개 업소명에 대한 브랜드 레이블링\n",
    "df.loc[df['업소명'].str.contains('김밥천국'), '브랜드명'] = '김밥천국'\n",
    "df.loc[df['업소명'].str.contains('엉터리생고기'), '브랜드명'] = '엉터리생고기'\n",
    "df.loc[df['업소명'].str.contains('커피나무'), '브랜드명'] = '커피나무'\n",
    "df.loc[df['업소명'].str.contains('교촌치킨'), '브랜드명'] = '교촌치킨'\n",
    "df.loc[df['업소명'].str.contains('본죽'), '브랜드명'] = '본죽'\n",
    "df.loc[df['업소명'].str.contains('실내포장마차'), '브랜드명'] = '실내포장마차'\n",
    "df.loc[df['업소명'].str.contains('전주식당'), '브랜드명'] = '전주식당'\n",
    "df.loc[df['업소명'].str.contains('남원추어탕'), '브랜드명'] = '남원추어탕'\n",
    "df.loc[df['업소명'].str.contains('페리카나치킨'), '브랜드명'] = '페리카나치킨'\n",
    "df.loc[df['업소명'].str.contains('포마토'), '브랜드명'] = '포마토'"
   ]
  },
  {
   "cell_type": "code",
   "execution_count": 8,
   "metadata": {},
   "outputs": [
    {
     "data": {
      "text/html": [
       "<div>\n",
       "<style scoped>\n",
       "    .dataframe tbody tr th:only-of-type {\n",
       "        vertical-align: middle;\n",
       "    }\n",
       "\n",
       "    .dataframe tbody tr th {\n",
       "        vertical-align: top;\n",
       "    }\n",
       "\n",
       "    .dataframe thead th {\n",
       "        text-align: right;\n",
       "    }\n",
       "</style>\n",
       "<table border=\"1\" class=\"dataframe\">\n",
       "  <thead>\n",
       "    <tr style=\"text-align: right;\">\n",
       "      <th></th>\n",
       "      <th>업종명</th>\n",
       "      <th>인허가일자</th>\n",
       "      <th>업소명</th>\n",
       "      <th>소재지(도로명)</th>\n",
       "      <th>소재지(지번)</th>\n",
       "      <th>영업장면적</th>\n",
       "      <th>소재지전화</th>\n",
       "      <th>업태명</th>\n",
       "      <th>브랜드명</th>\n",
       "    </tr>\n",
       "  </thead>\n",
       "  <tbody>\n",
       "    <tr>\n",
       "      <th>28</th>\n",
       "      <td>일반음식점</td>\n",
       "      <td>1982-10-12</td>\n",
       "      <td>교촌치킨</td>\n",
       "      <td>서울특별시 동작구 시흥대로 646, 지상1층 (신대방동)</td>\n",
       "      <td>서울특별시 동작구 신대방동 607번지 28호</td>\n",
       "      <td>72.60</td>\n",
       "      <td>02-846-9992</td>\n",
       "      <td>호프/통닭</td>\n",
       "      <td>교촌치킨</td>\n",
       "    </tr>\n",
       "    <tr>\n",
       "      <th>91</th>\n",
       "      <td>일반음식점</td>\n",
       "      <td>1987-12-15</td>\n",
       "      <td>전주식당</td>\n",
       "      <td>서울특별시 동작구 성대로2길 3-2 (상도동)</td>\n",
       "      <td>서울특별시 동작구 상도동 316번지 12호</td>\n",
       "      <td>34.80</td>\n",
       "      <td>02-820-7219</td>\n",
       "      <td>한식</td>\n",
       "      <td>전주식당</td>\n",
       "    </tr>\n",
       "    <tr>\n",
       "      <th>112</th>\n",
       "      <td>일반음식점</td>\n",
       "      <td>1988-08-18</td>\n",
       "      <td>포마토김밥</td>\n",
       "      <td>서울특별시 동작구 보라매로 106 (신대방동)</td>\n",
       "      <td>서울특별시 동작구 신대방동 347번지 13호</td>\n",
       "      <td>45.64</td>\n",
       "      <td>02-821-5400</td>\n",
       "      <td>한식</td>\n",
       "      <td>포마토</td>\n",
       "    </tr>\n",
       "    <tr>\n",
       "      <th>140</th>\n",
       "      <td>일반음식점</td>\n",
       "      <td>1990-10-29</td>\n",
       "      <td>페리카나치킨</td>\n",
       "      <td>서울특별시 동작구 장승배기로19길 12 (노량진동)</td>\n",
       "      <td>서울특별시 동작구 노량진동 306번지 5호</td>\n",
       "      <td>15.37</td>\n",
       "      <td>02-812-7989</td>\n",
       "      <td>통닭(치킨)</td>\n",
       "      <td>페리카나치킨</td>\n",
       "    </tr>\n",
       "    <tr>\n",
       "      <th>167</th>\n",
       "      <td>일반음식점</td>\n",
       "      <td>1991-05-16</td>\n",
       "      <td>원조 남원추어탕</td>\n",
       "      <td>서울특별시 동작구 상도로26길 12 (상도동)</td>\n",
       "      <td>서울특별시 동작구 상도동 183번지 13호</td>\n",
       "      <td>106.80</td>\n",
       "      <td>02-821-6550</td>\n",
       "      <td>한식</td>\n",
       "      <td>남원추어탕</td>\n",
       "    </tr>\n",
       "  </tbody>\n",
       "</table>\n",
       "</div>"
      ],
      "text/plain": [
       "       업종명       인허가일자       업소명                         소재지(도로명)  \\\n",
       "28   일반음식점  1982-10-12      교촌치킨  서울특별시 동작구 시흥대로 646, 지상1층 (신대방동)   \n",
       "91   일반음식점  1987-12-15      전주식당        서울특별시 동작구 성대로2길 3-2 (상도동)   \n",
       "112  일반음식점  1988-08-18     포마토김밥        서울특별시 동작구 보라매로 106 (신대방동)   \n",
       "140  일반음식점  1990-10-29    페리카나치킨     서울특별시 동작구 장승배기로19길 12 (노량진동)   \n",
       "167  일반음식점  1991-05-16  원조 남원추어탕        서울특별시 동작구 상도로26길 12 (상도동)   \n",
       "\n",
       "                      소재지(지번)   영업장면적        소재지전화     업태명    브랜드명  \n",
       "28   서울특별시 동작구 신대방동 607번지 28호   72.60  02-846-9992   호프/통닭    교촌치킨  \n",
       "91    서울특별시 동작구 상도동 316번지 12호   34.80  02-820-7219      한식    전주식당  \n",
       "112  서울특별시 동작구 신대방동 347번지 13호   45.64  02-821-5400      한식     포마토  \n",
       "140   서울특별시 동작구 노량진동 306번지 5호   15.37  02-812-7989  통닭(치킨)  페리카나치킨  \n",
       "167   서울특별시 동작구 상도동 183번지 13호  106.80  02-821-6550      한식   남원추어탕  "
      ]
     },
     "execution_count": 8,
     "metadata": {},
     "output_type": "execute_result"
    }
   ],
   "source": [
    "# df['브랜드명']==[['엉터리생고기'|'본죽']]\n",
    "df_top = df[df['브랜드명'].str.contains(\n",
    "    '엉터리생고기|커피나무|교촌치킨|본죽|실내포장마차|전주식당|남원추어탕|페리카나치킨|포마토|김밥천국')]\n",
    "df_top.head()"
   ]
  },
  {
   "cell_type": "markdown",
   "metadata": {},
   "source": [
    "프랜차이즈 브랜드가 아닌 식당명의 행들을 삭제"
   ]
  },
  {
   "cell_type": "code",
   "execution_count": 9,
   "metadata": {},
   "outputs": [
    {
     "name": "stdout",
     "output_type": "stream",
     "text": [
      "(14, 9)\n"
     ]
    },
    {
     "data": {
      "text/html": [
       "<div>\n",
       "<style scoped>\n",
       "    .dataframe tbody tr th:only-of-type {\n",
       "        vertical-align: middle;\n",
       "    }\n",
       "\n",
       "    .dataframe tbody tr th {\n",
       "        vertical-align: top;\n",
       "    }\n",
       "\n",
       "    .dataframe thead th {\n",
       "        text-align: right;\n",
       "    }\n",
       "</style>\n",
       "<table border=\"1\" class=\"dataframe\">\n",
       "  <thead>\n",
       "    <tr style=\"text-align: right;\">\n",
       "      <th></th>\n",
       "      <th>업종명</th>\n",
       "      <th>인허가일자</th>\n",
       "      <th>업소명</th>\n",
       "      <th>소재지(도로명)</th>\n",
       "      <th>소재지(지번)</th>\n",
       "      <th>영업장면적</th>\n",
       "      <th>소재지전화</th>\n",
       "      <th>업태명</th>\n",
       "      <th>브랜드명</th>\n",
       "    </tr>\n",
       "  </thead>\n",
       "  <tbody>\n",
       "    <tr>\n",
       "      <th>91</th>\n",
       "      <td>일반음식점</td>\n",
       "      <td>1987-12-15</td>\n",
       "      <td>전주식당</td>\n",
       "      <td>서울특별시 동작구 성대로2길 3-2 (상도동)</td>\n",
       "      <td>서울특별시 동작구 상도동 316번지 12호</td>\n",
       "      <td>34.80</td>\n",
       "      <td>02-820-7219</td>\n",
       "      <td>한식</td>\n",
       "      <td>전주식당</td>\n",
       "    </tr>\n",
       "    <tr>\n",
       "      <th>420</th>\n",
       "      <td>일반음식점</td>\n",
       "      <td>1995-01-16</td>\n",
       "      <td>실내포장마차</td>\n",
       "      <td>NaN</td>\n",
       "      <td>서울특별시 동작구 흑석동 95번지 98호</td>\n",
       "      <td>18.76</td>\n",
       "      <td>02-0824-6582</td>\n",
       "      <td>정종/대포집/소주방</td>\n",
       "      <td>실내포장마차</td>\n",
       "    </tr>\n",
       "    <tr>\n",
       "      <th>474</th>\n",
       "      <td>일반음식점</td>\n",
       "      <td>1996-05-20</td>\n",
       "      <td>실내포장마차</td>\n",
       "      <td>서울특별시 동작구 노량진로18길 23 (본동)</td>\n",
       "      <td>서울특별시 동작구 본동 404번지 1호</td>\n",
       "      <td>15.39</td>\n",
       "      <td>02-825-5284</td>\n",
       "      <td>정종/대포집/소주방</td>\n",
       "      <td>실내포장마차</td>\n",
       "    </tr>\n",
       "    <tr>\n",
       "      <th>548</th>\n",
       "      <td>일반음식점</td>\n",
       "      <td>1998-04-21</td>\n",
       "      <td>실내포장마차</td>\n",
       "      <td>서울특별시 동작구 장승배기로 138 (노량진동)</td>\n",
       "      <td>서울특별시 동작구 노량진동 233번지 6호</td>\n",
       "      <td>16.73</td>\n",
       "      <td>02-826-3365</td>\n",
       "      <td>정종/대포집/소주방</td>\n",
       "      <td>실내포장마차</td>\n",
       "    </tr>\n",
       "    <tr>\n",
       "      <th>555</th>\n",
       "      <td>일반음식점</td>\n",
       "      <td>1998-04-25</td>\n",
       "      <td>상도실내포장마차</td>\n",
       "      <td>서울특별시 동작구 상도로 288 (상도1동)</td>\n",
       "      <td>서울특별시 동작구 상도1동 784번지 1호</td>\n",
       "      <td>21.09</td>\n",
       "      <td>02-821-3825</td>\n",
       "      <td>호프/통닭</td>\n",
       "      <td>실내포장마차</td>\n",
       "    </tr>\n",
       "    <tr>\n",
       "      <th>654</th>\n",
       "      <td>일반음식점</td>\n",
       "      <td>1999-09-10</td>\n",
       "      <td>전주식당</td>\n",
       "      <td>서울특별시 동작구 사당로26길 130-6, 1층동 101호 (사당동)</td>\n",
       "      <td>서울특별시 동작구 사당동 1037번지 9호  1층동 101호</td>\n",
       "      <td>36.30</td>\n",
       "      <td>02-588-6647</td>\n",
       "      <td>한식</td>\n",
       "      <td>전주식당</td>\n",
       "    </tr>\n",
       "    <tr>\n",
       "      <th>716</th>\n",
       "      <td>일반음식점</td>\n",
       "      <td>2000-06-07</td>\n",
       "      <td>실내포장마차</td>\n",
       "      <td>서울특별시 동작구 장승배기로 153-2, 1층 (노량진동)</td>\n",
       "      <td>서울특별시 동작구 노량진동 240번지 18호</td>\n",
       "      <td>30.00</td>\n",
       "      <td>02-822-0303</td>\n",
       "      <td>정종/대포집/소주방</td>\n",
       "      <td>실내포장마차</td>\n",
       "    </tr>\n",
       "    <tr>\n",
       "      <th>722</th>\n",
       "      <td>일반음식점</td>\n",
       "      <td>2000-07-03</td>\n",
       "      <td>전주식당</td>\n",
       "      <td>서울특별시 동작구 여의대방로44길 10 (대방동)</td>\n",
       "      <td>서울특별시 동작구 대방동 501번지 대림쇼핑타운 지층 113</td>\n",
       "      <td>30.34</td>\n",
       "      <td>02-814-3166</td>\n",
       "      <td>한식</td>\n",
       "      <td>전주식당</td>\n",
       "    </tr>\n",
       "    <tr>\n",
       "      <th>882</th>\n",
       "      <td>일반음식점</td>\n",
       "      <td>2002-04-16</td>\n",
       "      <td>왕바우실내포장마차</td>\n",
       "      <td>서울특별시 동작구 신대방11길 25 (신대방동)</td>\n",
       "      <td>서울특별시 동작구 신대방동 688번지 0호</td>\n",
       "      <td>19.75</td>\n",
       "      <td>02-841-0588</td>\n",
       "      <td>정종/대포집/소주방</td>\n",
       "      <td>실내포장마차</td>\n",
       "    </tr>\n",
       "    <tr>\n",
       "      <th>937</th>\n",
       "      <td>일반음식점</td>\n",
       "      <td>2002-12-10</td>\n",
       "      <td>전주식당</td>\n",
       "      <td>서울특별시 동작구 성대로6가길 2 (상도동)</td>\n",
       "      <td>서울특별시 동작구 상도동 256번지 4호</td>\n",
       "      <td>29.62</td>\n",
       "      <td>02-825-3123</td>\n",
       "      <td>한식</td>\n",
       "      <td>전주식당</td>\n",
       "    </tr>\n",
       "    <tr>\n",
       "      <th>1503</th>\n",
       "      <td>일반음식점</td>\n",
       "      <td>2008-11-06</td>\n",
       "      <td>실내포장마차</td>\n",
       "      <td>서울특별시 동작구 등용로 93 (대방동)</td>\n",
       "      <td>서울특별시 동작구 대방동 20번지 8호</td>\n",
       "      <td>19.20</td>\n",
       "      <td>NaN</td>\n",
       "      <td>정종/대포집/소주방</td>\n",
       "      <td>실내포장마차</td>\n",
       "    </tr>\n",
       "    <tr>\n",
       "      <th>1551</th>\n",
       "      <td>일반음식점</td>\n",
       "      <td>2009-04-15</td>\n",
       "      <td>오케이(OK) 실내포장마차</td>\n",
       "      <td>서울특별시 동작구 동작대로29가길 20 (사당동)</td>\n",
       "      <td>서울특별시 동작구 사당동 89번지 10호</td>\n",
       "      <td>26.89</td>\n",
       "      <td>02-502-9876</td>\n",
       "      <td>정종/대포집/소주방</td>\n",
       "      <td>실내포장마차</td>\n",
       "    </tr>\n",
       "    <tr>\n",
       "      <th>2548</th>\n",
       "      <td>일반음식점</td>\n",
       "      <td>2016-04-22</td>\n",
       "      <td>전주식당</td>\n",
       "      <td>서울특별시 동작구 노량진로 140, 지상1층 114호 (노량진동)</td>\n",
       "      <td>서울특별시 동작구 노량진동 57번지 1호</td>\n",
       "      <td>84.42</td>\n",
       "      <td>070-8100-5882</td>\n",
       "      <td>한식</td>\n",
       "      <td>전주식당</td>\n",
       "    </tr>\n",
       "    <tr>\n",
       "      <th>3037</th>\n",
       "      <td>일반음식점</td>\n",
       "      <td>2018-05-25</td>\n",
       "      <td>상도실내포장마차</td>\n",
       "      <td>서울특별시 동작구 상도로 284, 1층 (상도1동)</td>\n",
       "      <td>서울특별시 동작구 상도1동 780번지 2호 동현빌딩</td>\n",
       "      <td>40.00</td>\n",
       "      <td>NaN</td>\n",
       "      <td>한식</td>\n",
       "      <td>실내포장마차</td>\n",
       "    </tr>\n",
       "  </tbody>\n",
       "</table>\n",
       "</div>"
      ],
      "text/plain": [
       "        업종명       인허가일자             업소명  \\\n",
       "91    일반음식점  1987-12-15            전주식당   \n",
       "420   일반음식점  1995-01-16          실내포장마차   \n",
       "474   일반음식점  1996-05-20          실내포장마차   \n",
       "548   일반음식점  1998-04-21          실내포장마차   \n",
       "555   일반음식점  1998-04-25        상도실내포장마차   \n",
       "654   일반음식점  1999-09-10            전주식당   \n",
       "716   일반음식점  2000-06-07          실내포장마차   \n",
       "722   일반음식점  2000-07-03            전주식당   \n",
       "882   일반음식점  2002-04-16       왕바우실내포장마차   \n",
       "937   일반음식점  2002-12-10            전주식당   \n",
       "1503  일반음식점  2008-11-06          실내포장마차   \n",
       "1551  일반음식점  2009-04-15  오케이(OK) 실내포장마차   \n",
       "2548  일반음식점  2016-04-22            전주식당   \n",
       "3037  일반음식점  2018-05-25        상도실내포장마차   \n",
       "\n",
       "                                    소재지(도로명)  \\\n",
       "91                 서울특별시 동작구 성대로2길 3-2 (상도동)   \n",
       "420                                      NaN   \n",
       "474                서울특별시 동작구 노량진로18길 23 (본동)   \n",
       "548               서울특별시 동작구 장승배기로 138 (노량진동)   \n",
       "555                 서울특별시 동작구 상도로 288 (상도1동)   \n",
       "654   서울특별시 동작구 사당로26길 130-6, 1층동 101호 (사당동)   \n",
       "716         서울특별시 동작구 장승배기로 153-2, 1층 (노량진동)   \n",
       "722              서울특별시 동작구 여의대방로44길 10 (대방동)   \n",
       "882               서울특별시 동작구 신대방11길 25 (신대방동)   \n",
       "937                 서울특별시 동작구 성대로6가길 2 (상도동)   \n",
       "1503                  서울특별시 동작구 등용로 93 (대방동)   \n",
       "1551             서울특별시 동작구 동작대로29가길 20 (사당동)   \n",
       "2548    서울특별시 동작구 노량진로 140, 지상1층 114호 (노량진동)   \n",
       "3037            서울특별시 동작구 상도로 284, 1층 (상도1동)   \n",
       "\n",
       "                                소재지(지번)  영업장면적          소재지전화         업태명  \\\n",
       "91              서울특별시 동작구 상도동 316번지 12호  34.80    02-820-7219          한식   \n",
       "420              서울특별시 동작구 흑석동 95번지 98호  18.76   02-0824-6582  정종/대포집/소주방   \n",
       "474               서울특별시 동작구 본동 404번지 1호  15.39    02-825-5284  정종/대포집/소주방   \n",
       "548             서울특별시 동작구 노량진동 233번지 6호  16.73    02-826-3365  정종/대포집/소주방   \n",
       "555             서울특별시 동작구 상도1동 784번지 1호  21.09    02-821-3825       호프/통닭   \n",
       "654   서울특별시 동작구 사당동 1037번지 9호  1층동 101호  36.30    02-588-6647          한식   \n",
       "716            서울특별시 동작구 노량진동 240번지 18호  30.00    02-822-0303  정종/대포집/소주방   \n",
       "722   서울특별시 동작구 대방동 501번지 대림쇼핑타운 지층 113  30.34    02-814-3166          한식   \n",
       "882             서울특별시 동작구 신대방동 688번지 0호  19.75    02-841-0588  정종/대포집/소주방   \n",
       "937              서울특별시 동작구 상도동 256번지 4호  29.62    02-825-3123          한식   \n",
       "1503              서울특별시 동작구 대방동 20번지 8호  19.20            NaN  정종/대포집/소주방   \n",
       "1551             서울특별시 동작구 사당동 89번지 10호  26.89    02-502-9876  정종/대포집/소주방   \n",
       "2548             서울특별시 동작구 노량진동 57번지 1호  84.42  070-8100-5882          한식   \n",
       "3037       서울특별시 동작구 상도1동 780번지 2호 동현빌딩  40.00            NaN          한식   \n",
       "\n",
       "        브랜드명  \n",
       "91      전주식당  \n",
       "420   실내포장마차  \n",
       "474   실내포장마차  \n",
       "548   실내포장마차  \n",
       "555   실내포장마차  \n",
       "654     전주식당  \n",
       "716   실내포장마차  \n",
       "722     전주식당  \n",
       "882   실내포장마차  \n",
       "937     전주식당  \n",
       "1503  실내포장마차  \n",
       "1551  실내포장마차  \n",
       "2548    전주식당  \n",
       "3037  실내포장마차  "
      ]
     },
     "execution_count": 9,
     "metadata": {},
     "output_type": "execute_result"
    }
   ],
   "source": [
    "df_drop = df[df['브랜드명'].str.contains('전주식당|실내포장마차')]\n",
    "print(df_drop.shape)\n",
    "df_drop"
   ]
  },
  {
   "cell_type": "code",
   "execution_count": 10,
   "metadata": {
    "scrolled": true
   },
   "outputs": [
    {
     "name": "stdout",
     "output_type": "stream",
     "text": [
      "(14, 9)\n"
     ]
    },
    {
     "data": {
      "text/plain": [
       "Int64Index([91, 420, 474, 548, 555, 654, 716, 722, 882, 937, 1503, 1551, 2548,\n",
       "            3037],\n",
       "           dtype='int64')"
      ]
     },
     "execution_count": 10,
     "metadata": {},
     "output_type": "execute_result"
    }
   ],
   "source": [
    "print(df_top[df_top['브랜드명'].str.contains('전주식당|실내포장마차')].shape)\n",
    "df_drop = df_top[df_top['브랜드명'].str.contains('전주식당|실내포장마차')].index\n",
    "df_drop"
   ]
  },
  {
   "cell_type": "code",
   "execution_count": 11,
   "metadata": {
    "scrolled": true
   },
   "outputs": [
    {
     "data": {
      "text/plain": [
       "[91, 420, 474, 548, 555, 654, 716, 722, 882, 937, 1503, 1551, 2548, 3037]"
      ]
     },
     "execution_count": 11,
     "metadata": {},
     "output_type": "execute_result"
    }
   ],
   "source": [
    "df_drop = df_drop.tolist()\n",
    "df_drop"
   ]
  },
  {
   "cell_type": "code",
   "execution_count": 12,
   "metadata": {},
   "outputs": [
    {
     "data": {
      "text/plain": [
       "[91, 420, 474, 548, 555, 654, 716, 722, 882, 937, 1503, 1551, 2548, 3037]"
      ]
     },
     "execution_count": 12,
     "metadata": {},
     "output_type": "execute_result"
    }
   ],
   "source": [
    "df_drop"
   ]
  },
  {
   "cell_type": "code",
   "execution_count": 13,
   "metadata": {},
   "outputs": [
    {
     "name": "stdout",
     "output_type": "stream",
     "text": [
      "(87, 9)\n",
      "(73, 9)\n"
     ]
    }
   ],
   "source": [
    "print(df_top.shape)\n",
    "df_top = df_top.drop(df_drop, axis=0)\n",
    "print(df_top.shape)"
   ]
  },
  {
   "cell_type": "markdown",
   "metadata": {},
   "source": [
    "그래프로 그려보기"
   ]
  },
  {
   "cell_type": "code",
   "execution_count": 14,
   "metadata": {},
   "outputs": [
    {
     "data": {
      "text/html": [
       "<div>\n",
       "<style scoped>\n",
       "    .dataframe tbody tr th:only-of-type {\n",
       "        vertical-align: middle;\n",
       "    }\n",
       "\n",
       "    .dataframe tbody tr th {\n",
       "        vertical-align: top;\n",
       "    }\n",
       "\n",
       "    .dataframe thead th {\n",
       "        text-align: right;\n",
       "    }\n",
       "</style>\n",
       "<table border=\"1\" class=\"dataframe\">\n",
       "  <thead>\n",
       "    <tr style=\"text-align: right;\">\n",
       "      <th></th>\n",
       "      <th>브랜드명</th>\n",
       "    </tr>\n",
       "  </thead>\n",
       "  <tbody>\n",
       "    <tr>\n",
       "      <th>커피나무</th>\n",
       "      <td>15</td>\n",
       "    </tr>\n",
       "    <tr>\n",
       "      <th>본죽</th>\n",
       "      <td>12</td>\n",
       "    </tr>\n",
       "    <tr>\n",
       "      <th>김밥천국</th>\n",
       "      <td>11</td>\n",
       "    </tr>\n",
       "    <tr>\n",
       "      <th>엉터리생고기</th>\n",
       "      <td>9</td>\n",
       "    </tr>\n",
       "    <tr>\n",
       "      <th>포마토</th>\n",
       "      <td>8</td>\n",
       "    </tr>\n",
       "    <tr>\n",
       "      <th>교촌치킨</th>\n",
       "      <td>8</td>\n",
       "    </tr>\n",
       "    <tr>\n",
       "      <th>남원추어탕</th>\n",
       "      <td>6</td>\n",
       "    </tr>\n",
       "    <tr>\n",
       "      <th>페리카나치킨</th>\n",
       "      <td>4</td>\n",
       "    </tr>\n",
       "  </tbody>\n",
       "</table>\n",
       "</div>"
      ],
      "text/plain": [
       "        브랜드명\n",
       "커피나무      15\n",
       "본죽        12\n",
       "김밥천국      11\n",
       "엉터리생고기     9\n",
       "포마토        8\n",
       "교촌치킨       8\n",
       "남원추어탕      6\n",
       "페리카나치킨     4"
      ]
     },
     "execution_count": 14,
     "metadata": {},
     "output_type": "execute_result"
    }
   ],
   "source": [
    "a = pd.DataFrame(df_top['브랜드명'].value_counts())\n",
    "a"
   ]
  },
  {
   "cell_type": "code",
   "execution_count": 15,
   "metadata": {},
   "outputs": [
    {
     "data": {
      "text/plain": [
       "<matplotlib.axes._subplots.AxesSubplot at 0x2181fe4d470>"
      ]
     },
     "execution_count": 15,
     "metadata": {},
     "output_type": "execute_result"
    },
    {
     "data": {
      "image/png": "[encoded data removed]",
      "text/plain": [
       "<Figure size 432x288 with 1 Axes>"
      ]
     },
     "metadata": {
      "image/png": {
       "height": 251,
       "width": 417
      },
      "needs_background": "light"
     },
     "output_type": "display_data"
    }
   ],
   "source": [
    "df_top['브랜드명'].value_counts().plot.barh()"
   ]
  },
  {
   "cell_type": "code",
   "execution_count": 16,
   "metadata": {},
   "outputs": [
    {
     "data": {
      "text/plain": [
       "<matplotlib.axes._subplots.AxesSubplot at 0x218202c0b70>"
      ]
     },
     "execution_count": 16,
     "metadata": {},
     "output_type": "execute_result"
    },
    {
     "data": {
      "image/png": "[encoded data removed]",
      "text/plain": [
       "<Figure size 720x504 with 1 Axes>"
      ]
     },
     "metadata": {
      "image/png": {
       "height": 428,
       "width": 606
      },
      "needs_background": "light"
     },
     "output_type": "display_data"
    }
   ],
   "source": [
    "plt.figure(figsize=(10,7))\n",
    "sns.countplot(data=df_top, x='브랜드명')"
   ]
  }
 ],
 "metadata": {
  "kernelspec": {
   "display_name": "Python 3",
   "language": "python",
   "name": "python3"
  },
  "language_info": {
   "codemirror_mode": {
    "name": "ipython",
    "version": 3
   },
   "file_extension": ".py",
   "mimetype": "text/x-python",
   "name": "python",
   "nbconvert_exporter": "python",
   "pygments_lexer": "ipython3",
   "version": "3.7.3"
  }
 },
 "nbformat": 4,
 "nbformat_minor": 2
}
